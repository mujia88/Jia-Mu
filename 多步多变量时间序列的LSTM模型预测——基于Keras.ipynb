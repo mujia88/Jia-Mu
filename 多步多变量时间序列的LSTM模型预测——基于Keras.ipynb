{
 "cells": [
  {
   "cell_type": "markdown",
   "metadata": {},
   "source": [
    "# 多步多变量时间序列的LSTM模型预测——基于Keras"
   ]
  },
  {
   "cell_type": "markdown",
   "metadata": {},
   "source": [
    "##### lwb-xmu"
   ]
  },
  {
   "cell_type": "markdown",
   "metadata": {},
   "source": [
    "## 一、模型准备"
   ]
  },
  {
   "cell_type": "markdown",
   "metadata": {},
   "source": [
    "### 1.1 加载需要的包"
   ]
  },
  {
   "cell_type": "code",
   "execution_count": 10,
   "metadata": {},
   "outputs": [],
   "source": [
    "from math import sqrt\n",
    "from numpy import concatenate\n",
    "from matplotlib import pyplot\n",
    "from pandas import read_csv\n",
    "from pandas import DataFrame\n",
    "from pandas import concat\n",
    "from sklearn.preprocessing import MinMaxScaler\n",
    "from sklearn.preprocessing import LabelEncoder\n",
    "from sklearn.metrics import mean_squared_error\n",
    "from keras.models import Sequential\n",
    "from keras.layers import Dense\n",
    "from keras.layers import LSTM\n",
    "import pandas as pd\n",
    "import numpy as np"
   ]
  },
  {
   "cell_type": "markdown",
   "metadata": {},
   "source": [
    "### 1.2 定义将时间序列预测问题转化为监督学习问题的函数"
   ]
  },
  {
   "cell_type": "code",
   "execution_count": 11,
   "metadata": {},
   "outputs": [],
   "source": [
    "def series_to_supervised(data, n_in=1, n_out=1, dropnan=True):\n",
    "    n_vars = 1 if type(data) is list else data.shape[1]\n",
    "    df = DataFrame(data)\n",
    "    cols, names = [], []\n",
    "    #i: n_in, n_in-1, ..., 1，为滞后期数\n",
    "    #分别代表t-n_in, ... ,t-1期\n",
    "    for i in range(n_in, 0, -1):\n",
    "        cols.append(df.shift(i))\n",
    "        names += [('var%d(t-%d)' % (j+1, i)) for j in range(n_vars)]\n",
    "    #i: 0, 1, ..., n_out-1，为超前预测的期数\n",
    "    #分别代表t，t+1， ... ,t+n_out-1期\n",
    "    for i in range(0, n_out):\n",
    "        cols.append(df.shift(-i))\n",
    "        if i == 0:\n",
    "            names += [('var%d(t)' % (j+1)) for j in range(n_vars)]\n",
    "        else:\n",
    "            names += [('var%d(t+%d)' % (j+1, i)) for j in range(n_vars)]\n",
    "    agg = concat(cols, axis=1)\n",
    "    agg.columns = names\n",
    "    if dropnan:\n",
    "        agg.dropna(inplace=True)\n",
    "    return agg"
   ]
  },
  {
   "cell_type": "markdown",
   "metadata": {},
   "source": [
    "### 1.3 定义准备数据的函数"
   ]
  },
  {
   "cell_type": "code",
   "execution_count": 12,
   "metadata": {},
   "outputs": [],
   "source": [
    "def prepare_data(filepath, n_in, n_out=30, n_vars=4, train_proportion=0.8):\n",
    "    #读取数据集\n",
    "    dataset = read_csv(filepath, encoding='utf-8')\n",
    "    #设置时间戳索引\n",
    "    dataset['日期'] = pd.to_datetime(dataset['日期'])\n",
    "    dataset.set_index(\"日期\", inplace=True)\n",
    "    values = dataset.values\n",
    "    #保证所有数据都是float32类型\n",
    "    values = values.astype('float32')\n",
    "    #变量归一化\n",
    "    scaler = MinMaxScaler(feature_range=(0, 1))\n",
    "    scaled = scaler.fit_transform(values)\n",
    "    #将时间序列问题转化为监督学习问题\n",
    "    reframed = series_to_supervised(scaled, n_in, n_out)\n",
    "    #取出保留的变量\n",
    "    contain_vars = []\n",
    "    for i in range(1, n_in+1):\n",
    "        contain_vars += [('var%d(t-%d)' % (j, i)) for j in range(1,n_vars+1)]  \n",
    "    data = reframed [ contain_vars + ['var1(t)'] + [('var1(t+%d)' % (j)) for j in range(1,n_out)]]\n",
    "    #修改列名\n",
    "    col_names = ['Y', 'X1', 'X2', 'X3']\n",
    "    contain_vars = []\n",
    "    for i in range(n_vars):\n",
    "        contain_vars += [('%s(t-%d)' % (col_names[i], j)) for j in range(1,n_in+1)]  \n",
    "    data.columns = contain_vars +  ['Y(t)'] + [('Y(t+%d)' % (j)) for j in range(1,n_out)]\n",
    "    #分隔数据集，分为训练集和测试集\n",
    "    values = data.values\n",
    "    n_train = round(data.shape[0]*train_proportion)\n",
    "    train = values[:n_train, :]\n",
    "    test = values[n_train:, :]\n",
    "    #分隔输入X和输出y\n",
    "    train_X, train_y = train[:, :n_in*n_vars], train[:, n_in*n_vars:]\n",
    "    test_X, test_y = test[:, :n_in*n_vars], test[:, n_in*n_vars:]\n",
    "    #将输入X改造为LSTM的输入格式，即[samples,timesteps,features]\n",
    "    train_X = train_X.reshape((train_X.shape[0], n_in, n_vars))\n",
    "    test_X = test_X.reshape((test_X.shape[0], n_in, n_vars))\n",
    "    return scaler, data, train_X, train_y, test_X, test_y, dataset"
   ]
  },
  {
   "cell_type": "markdown",
   "metadata": {},
   "source": [
    "### 1.4 定义拟合LSTM模型的函数"
   ]
  },
  {
   "cell_type": "code",
   "execution_count": 13,
   "metadata": {},
   "outputs": [],
   "source": [
    "def fit_lstm(data_prepare, n_neurons=50, n_batch=72, n_epoch=100, loss='mae', optimizer='adam', repeats=1):\n",
    "    train_X = data_prepare[2]\n",
    "    train_y = data_prepare[3]\n",
    "    test_X = data_prepare[4]\n",
    "    test_y = data_prepare[5]\n",
    "    model_list = []\n",
    "    for i in range(repeats):\n",
    "        #设计神经网络\n",
    "        model = Sequential()\n",
    "        model.add(LSTM(n_neurons, input_shape=(train_X.shape[1], train_X.shape[2])))\n",
    "        model.add(Dense(train_y.shape[1]))\n",
    "        model.compile(loss=loss, optimizer=optimizer)\n",
    "        #拟合神经网络\n",
    "        history = model.fit(train_X, train_y, epochs=n_epoch, batch_size=n_batch, validation_data=(test_X, test_y), verbose=0, shuffle=False)\n",
    "        #画出学习过程\n",
    "        p1 = pyplot.plot(history.history['loss'], color='blue', label='train')\n",
    "        p2 = pyplot.plot(history.history['val_loss'], color='yellow',label='test')\n",
    "        #保存model\n",
    "        model_list.append(model)\n",
    "    pyplot.legend([\"train\",\"test\"])\n",
    "    pyplot.show()\n",
    "    return model_list"
   ]
  },
  {
   "cell_type": "markdown",
   "metadata": {},
   "source": [
    "### 1.5 定义预测的函数"
   ]
  },
  {
   "cell_type": "code",
   "execution_count": 14,
   "metadata": {},
   "outputs": [],
   "source": [
    "def lstm_predict(model, data_prepare):\n",
    "    scaler = data_prepare[0]\n",
    "    test_X = data_prepare[4]\n",
    "    test_y = data_prepare[5]\n",
    "    #做出预测\n",
    "    yhat = model.predict(test_X)\n",
    "    #将测试集上的预测值还原为原来的数据维度\n",
    "    scale_new = MinMaxScaler()\n",
    "    scale_new.min_, scale_new.scale_ = scaler.min_[0], scaler.scale_[0]\n",
    "    inv_yhat = scale_new.inverse_transform(yhat)\n",
    "    #将测试集上的实际值还原为原来的数据维度\n",
    "    inv_y = scale_new.inverse_transform(test_y)\n",
    "    return inv_yhat, inv_y"
   ]
  },
  {
   "cell_type": "markdown",
   "metadata": {},
   "source": [
    "### 1.6 定义预测评价的函数（RMSE）"
   ]
  },
  {
   "cell_type": "code",
   "execution_count": 18,
   "metadata": {},
   "outputs": [],
   "source": [
    "# 计算每一步预测的RMSE\n",
    "def evaluate_forecasts(test, forecasts, n_out):\n",
    "    rmse_dic = {}\n",
    "    for i in range(n_out):\n",
    "        actual = [float(row[i]) for row in test]\n",
    "        predicted = [float(forecast[i]) for forecast in forecasts]\n",
    "        rmse = sqrt(mean_squared_error(actual, predicted))\n",
    "        rmse_dic['t+' + str(i+1) + ' RMSE'] = rmse\n",
    "    return rmse_dic"
   ]
  },
  {
   "cell_type": "markdown",
   "metadata": {},
   "source": [
    "### 1.7 定义将预测可视化的函数"
   ]
  },
  {
   "cell_type": "code",
   "execution_count": 19,
   "metadata": {},
   "outputs": [],
   "source": [
    "#以原始数据为背景画出预测数据\n",
    "def plot_forecasts(series, forecasts):\n",
    "    #用蓝色画出原始数据集\n",
    "    pyplot.plot(series.values)\n",
    "    n_seq = len(forecasts[0])\n",
    "    #用红色画出预测值\n",
    "    for i in range(1,len(forecasts)+1):\n",
    "        xaxis = [x for x in range(i, i+n_seq+1)]\n",
    "        yaxis = [float(series.iloc[i-1,0])] + list(forecasts[i-1])\n",
    "        pyplot.plot(xaxis, yaxis, color='red')\n",
    "    #展示图像\n",
    "    pyplot.show()"
   ]
  },
  {
   "cell_type": "markdown",
   "metadata": {},
   "source": [
    "## 二、模型建立"
   ]
  },
  {
   "cell_type": "markdown",
   "metadata": {},
   "source": [
    "### 2.1 建立模型（n_in = 15，n_neuron = 5，n_batch = 16，n_epoch = 200）"
   ]
  },
  {
   "cell_type": "markdown",
   "metadata": {},
   "source": [
    "#### 为了减少随机性，重复建立五次模型，取五次结果的平均作为最后的预测"
   ]
  },
  {
   "cell_type": "code",
   "execution_count": 35,
   "metadata": {},
   "outputs": [
    {
     "data": {
      "image/png": "[encoded data removed]",
      "text/plain": [
       "<Figure size 432x288 with 1 Axes>"
      ]
     },
     "metadata": {
      "needs_background": "light"
     },
     "output_type": "display_data"
    }
   ],
   "source": [
    "#定义需要的变量\n",
    "filepath = r'导出文件.csv'\n",
    "n_in = 15\n",
    "n_out = 30\n",
    "n_vars = 4\n",
    "n_neuron = 5\n",
    "n_batch = 16\n",
    "n_epoch = 200\n",
    "repeats = 5\n",
    "\n",
    "inv_yhat_list = []\n",
    "inv_y_list = []\n",
    "\n",
    "\n",
    "data_prepare = prepare_data(filepath,n_in, n_out)\n",
    "scaler, data, train_X, train_y, test_X, test_y, dataset = data_prepare\n",
    "model_list = fit_lstm(data_prepare, n_neuron, n_batch, n_epoch,repeats=repeats)\n",
    "for i in range(len(model_list)):\n",
    "    model = model_list[i]\n",
    "    inv_yhat = lstm_predict(model, data_prepare)[0]\n",
    "    inv_y = lstm_predict(model, data_prepare)[1]\n",
    "    inv_yhat_list.append(inv_yhat)\n",
    "    inv_y_list.append(inv_y)"
   ]
  },
  {
   "cell_type": "markdown",
   "metadata": {},
   "source": [
    "#### 求出平均预测结果"
   ]
  },
  {
   "cell_type": "code",
   "execution_count": 36,
   "metadata": {},
   "outputs": [],
   "source": [
    "inv_yhat_ave = np.zeros(inv_y.shape)\n",
    "\n",
    "for i in range(repeats):\n",
    "    inv_yhat_ave += inv_yhat_list[i]\n",
    "    \n",
    "inv_yhat_ave = inv_yhat_ave/repeats"
   ]
  },
  {
   "cell_type": "markdown",
   "metadata": {},
   "source": [
    "### 2.2 模型评价"
   ]
  },
  {
   "cell_type": "markdown",
   "metadata": {},
   "source": [
    "#### 最终平均预测结果inv_yhat_ave的每步预测RMSE"
   ]
  },
  {
   "cell_type": "code",
   "execution_count": 37,
   "metadata": {},
   "outputs": [],
   "source": [
    "rmse_dic_list = []\n",
    "for i in range(len(model_list)):\n",
    "    inv_yhat = inv_yhat_list[i]\n",
    "    inv_y = inv_y_list[i]\n",
    "    rmse_dic = evaluate_forecasts(inv_y, inv_yhat, n_out)\n",
    "    rmse_dic_list.append(rmse_dic)\n",
    "\n",
    "rmse_dic_list.append(evaluate_forecasts(inv_y, inv_yhat_ave, n_out))"
   ]
  },
  {
   "cell_type": "code",
   "execution_count": 38,
   "metadata": {},
   "outputs": [
    {
     "data": {
      "text/html": [
       "<div>\n",
       "<style scoped>\n",
       "    .dataframe tbody tr th:only-of-type {\n",
       "        vertical-align: middle;\n",
       "    }\n",
       "\n",
       "    .dataframe tbody tr th {\n",
       "        vertical-align: top;\n",
       "    }\n",
       "\n",
       "    .dataframe thead th {\n",
       "        text-align: right;\n",
       "    }\n",
       "</style>\n",
       "<table border=\"1\" class=\"dataframe\">\n",
       "  <thead>\n",
       "    <tr style=\"text-align: right;\">\n",
       "      <th></th>\n",
       "      <th>第1次</th>\n",
       "      <th>第2次</th>\n",
       "      <th>第3次</th>\n",
       "      <th>第4次</th>\n",
       "      <th>第5次</th>\n",
       "      <th>平均</th>\n",
       "    </tr>\n",
       "  </thead>\n",
       "  <tbody>\n",
       "    <tr>\n",
       "      <th>t+1 RMSE</th>\n",
       "      <td>6.054318</td>\n",
       "      <td>5.910827</td>\n",
       "      <td>6.574757</td>\n",
       "      <td>5.514524</td>\n",
       "      <td>5.930769</td>\n",
       "      <td>5.608112</td>\n",
       "    </tr>\n",
       "    <tr>\n",
       "      <th>t+2 RMSE</th>\n",
       "      <td>6.799496</td>\n",
       "      <td>5.919717</td>\n",
       "      <td>7.129066</td>\n",
       "      <td>5.930466</td>\n",
       "      <td>6.346187</td>\n",
       "      <td>6.065158</td>\n",
       "    </tr>\n",
       "    <tr>\n",
       "      <th>t+3 RMSE</th>\n",
       "      <td>6.961642</td>\n",
       "      <td>6.410686</td>\n",
       "      <td>7.275462</td>\n",
       "      <td>6.546540</td>\n",
       "      <td>6.857233</td>\n",
       "      <td>6.618044</td>\n",
       "    </tr>\n",
       "    <tr>\n",
       "      <th>t+4 RMSE</th>\n",
       "      <td>7.707383</td>\n",
       "      <td>6.725169</td>\n",
       "      <td>7.962916</td>\n",
       "      <td>7.179770</td>\n",
       "      <td>7.364481</td>\n",
       "      <td>7.175948</td>\n",
       "    </tr>\n",
       "    <tr>\n",
       "      <th>t+5 RMSE</th>\n",
       "      <td>8.543821</td>\n",
       "      <td>7.359477</td>\n",
       "      <td>8.997917</td>\n",
       "      <td>7.591111</td>\n",
       "      <td>8.004835</td>\n",
       "      <td>7.831434</td>\n",
       "    </tr>\n",
       "    <tr>\n",
       "      <th>t+6 RMSE</th>\n",
       "      <td>8.826944</td>\n",
       "      <td>8.790049</td>\n",
       "      <td>9.158018</td>\n",
       "      <td>8.390160</td>\n",
       "      <td>8.501117</td>\n",
       "      <td>8.547602</td>\n",
       "    </tr>\n",
       "    <tr>\n",
       "      <th>t+7 RMSE</th>\n",
       "      <td>9.372653</td>\n",
       "      <td>8.842808</td>\n",
       "      <td>9.847240</td>\n",
       "      <td>8.818847</td>\n",
       "      <td>8.995596</td>\n",
       "      <td>9.000587</td>\n",
       "    </tr>\n",
       "    <tr>\n",
       "      <th>t+8 RMSE</th>\n",
       "      <td>9.869172</td>\n",
       "      <td>9.206043</td>\n",
       "      <td>10.790298</td>\n",
       "      <td>9.389183</td>\n",
       "      <td>9.621195</td>\n",
       "      <td>9.657852</td>\n",
       "    </tr>\n",
       "    <tr>\n",
       "      <th>t+9 RMSE</th>\n",
       "      <td>10.224256</td>\n",
       "      <td>10.113056</td>\n",
       "      <td>11.275415</td>\n",
       "      <td>9.925362</td>\n",
       "      <td>10.320555</td>\n",
       "      <td>10.177834</td>\n",
       "    </tr>\n",
       "    <tr>\n",
       "      <th>t+10 RMSE</th>\n",
       "      <td>10.730779</td>\n",
       "      <td>10.613619</td>\n",
       "      <td>11.738241</td>\n",
       "      <td>10.547615</td>\n",
       "      <td>10.858770</td>\n",
       "      <td>10.750603</td>\n",
       "    </tr>\n",
       "    <tr>\n",
       "      <th>t+11 RMSE</th>\n",
       "      <td>11.217751</td>\n",
       "      <td>11.153954</td>\n",
       "      <td>12.502412</td>\n",
       "      <td>11.135731</td>\n",
       "      <td>11.692412</td>\n",
       "      <td>11.458523</td>\n",
       "    </tr>\n",
       "    <tr>\n",
       "      <th>t+12 RMSE</th>\n",
       "      <td>11.975135</td>\n",
       "      <td>12.117445</td>\n",
       "      <td>13.382915</td>\n",
       "      <td>11.581188</td>\n",
       "      <td>12.537667</td>\n",
       "      <td>12.201281</td>\n",
       "    </tr>\n",
       "    <tr>\n",
       "      <th>t+13 RMSE</th>\n",
       "      <td>12.431174</td>\n",
       "      <td>12.648199</td>\n",
       "      <td>14.090454</td>\n",
       "      <td>12.092397</td>\n",
       "      <td>12.351822</td>\n",
       "      <td>12.579149</td>\n",
       "    </tr>\n",
       "    <tr>\n",
       "      <th>t+14 RMSE</th>\n",
       "      <td>13.060560</td>\n",
       "      <td>13.141831</td>\n",
       "      <td>14.255130</td>\n",
       "      <td>12.452494</td>\n",
       "      <td>13.279099</td>\n",
       "      <td>13.074444</td>\n",
       "    </tr>\n",
       "    <tr>\n",
       "      <th>t+15 RMSE</th>\n",
       "      <td>13.879692</td>\n",
       "      <td>13.775036</td>\n",
       "      <td>15.346088</td>\n",
       "      <td>13.138019</td>\n",
       "      <td>13.793227</td>\n",
       "      <td>13.845060</td>\n",
       "    </tr>\n",
       "    <tr>\n",
       "      <th>t+16 RMSE</th>\n",
       "      <td>14.670389</td>\n",
       "      <td>14.491605</td>\n",
       "      <td>16.118887</td>\n",
       "      <td>13.422946</td>\n",
       "      <td>14.143394</td>\n",
       "      <td>14.421311</td>\n",
       "    </tr>\n",
       "    <tr>\n",
       "      <th>t+17 RMSE</th>\n",
       "      <td>15.237153</td>\n",
       "      <td>15.503956</td>\n",
       "      <td>16.679258</td>\n",
       "      <td>13.896419</td>\n",
       "      <td>14.108534</td>\n",
       "      <td>14.909649</td>\n",
       "    </tr>\n",
       "    <tr>\n",
       "      <th>t+18 RMSE</th>\n",
       "      <td>15.390742</td>\n",
       "      <td>15.054655</td>\n",
       "      <td>16.010253</td>\n",
       "      <td>14.280028</td>\n",
       "      <td>15.037541</td>\n",
       "      <td>15.060793</td>\n",
       "    </tr>\n",
       "    <tr>\n",
       "      <th>t+19 RMSE</th>\n",
       "      <td>16.030557</td>\n",
       "      <td>15.657191</td>\n",
       "      <td>16.441218</td>\n",
       "      <td>14.518066</td>\n",
       "      <td>15.145838</td>\n",
       "      <td>15.417519</td>\n",
       "    </tr>\n",
       "    <tr>\n",
       "      <th>t+20 RMSE</th>\n",
       "      <td>15.671409</td>\n",
       "      <td>15.547522</td>\n",
       "      <td>16.150036</td>\n",
       "      <td>14.704495</td>\n",
       "      <td>15.150355</td>\n",
       "      <td>15.359049</td>\n",
       "    </tr>\n",
       "    <tr>\n",
       "      <th>t+21 RMSE</th>\n",
       "      <td>15.757660</td>\n",
       "      <td>15.787190</td>\n",
       "      <td>16.898795</td>\n",
       "      <td>14.751765</td>\n",
       "      <td>15.152527</td>\n",
       "      <td>15.546924</td>\n",
       "    </tr>\n",
       "    <tr>\n",
       "      <th>t+22 RMSE</th>\n",
       "      <td>15.208240</td>\n",
       "      <td>17.009959</td>\n",
       "      <td>16.376563</td>\n",
       "      <td>14.852501</td>\n",
       "      <td>15.567227</td>\n",
       "      <td>15.670801</td>\n",
       "    </tr>\n",
       "    <tr>\n",
       "      <th>t+23 RMSE</th>\n",
       "      <td>15.162898</td>\n",
       "      <td>16.254727</td>\n",
       "      <td>16.888183</td>\n",
       "      <td>15.513842</td>\n",
       "      <td>15.526986</td>\n",
       "      <td>15.738396</td>\n",
       "    </tr>\n",
       "    <tr>\n",
       "      <th>t+24 RMSE</th>\n",
       "      <td>15.516408</td>\n",
       "      <td>16.282854</td>\n",
       "      <td>16.762683</td>\n",
       "      <td>15.109268</td>\n",
       "      <td>15.232268</td>\n",
       "      <td>15.642263</td>\n",
       "    </tr>\n",
       "    <tr>\n",
       "      <th>t+25 RMSE</th>\n",
       "      <td>15.338432</td>\n",
       "      <td>16.417778</td>\n",
       "      <td>16.450235</td>\n",
       "      <td>15.218523</td>\n",
       "      <td>15.879392</td>\n",
       "      <td>15.764465</td>\n",
       "    </tr>\n",
       "    <tr>\n",
       "      <th>t+26 RMSE</th>\n",
       "      <td>15.215581</td>\n",
       "      <td>16.714160</td>\n",
       "      <td>16.687302</td>\n",
       "      <td>15.704890</td>\n",
       "      <td>15.650851</td>\n",
       "      <td>15.860303</td>\n",
       "    </tr>\n",
       "    <tr>\n",
       "      <th>t+27 RMSE</th>\n",
       "      <td>15.410981</td>\n",
       "      <td>16.711455</td>\n",
       "      <td>17.264010</td>\n",
       "      <td>15.838977</td>\n",
       "      <td>15.801374</td>\n",
       "      <td>16.052185</td>\n",
       "    </tr>\n",
       "    <tr>\n",
       "      <th>t+28 RMSE</th>\n",
       "      <td>15.969366</td>\n",
       "      <td>16.453532</td>\n",
       "      <td>16.564865</td>\n",
       "      <td>15.876696</td>\n",
       "      <td>16.078542</td>\n",
       "      <td>16.110161</td>\n",
       "    </tr>\n",
       "    <tr>\n",
       "      <th>t+29 RMSE</th>\n",
       "      <td>16.291474</td>\n",
       "      <td>16.447350</td>\n",
       "      <td>16.771656</td>\n",
       "      <td>15.870124</td>\n",
       "      <td>16.276672</td>\n",
       "      <td>16.236876</td>\n",
       "    </tr>\n",
       "    <tr>\n",
       "      <th>t+30 RMSE</th>\n",
       "      <td>16.122111</td>\n",
       "      <td>16.578749</td>\n",
       "      <td>16.643779</td>\n",
       "      <td>16.260352</td>\n",
       "      <td>16.013707</td>\n",
       "      <td>16.189853</td>\n",
       "    </tr>\n",
       "  </tbody>\n",
       "</table>\n",
       "</div>"
      ],
      "text/plain": [
       "                 第1次        第2次        第3次        第4次        第5次         平均\n",
       "t+1 RMSE    6.054318   5.910827   6.574757   5.514524   5.930769   5.608112\n",
       "t+2 RMSE    6.799496   5.919717   7.129066   5.930466   6.346187   6.065158\n",
       "t+3 RMSE    6.961642   6.410686   7.275462   6.546540   6.857233   6.618044\n",
       "t+4 RMSE    7.707383   6.725169   7.962916   7.179770   7.364481   7.175948\n",
       "t+5 RMSE    8.543821   7.359477   8.997917   7.591111   8.004835   7.831434\n",
       "t+6 RMSE    8.826944   8.790049   9.158018   8.390160   8.501117   8.547602\n",
       "t+7 RMSE    9.372653   8.842808   9.847240   8.818847   8.995596   9.000587\n",
       "t+8 RMSE    9.869172   9.206043  10.790298   9.389183   9.621195   9.657852\n",
       "t+9 RMSE   10.224256  10.113056  11.275415   9.925362  10.320555  10.177834\n",
       "t+10 RMSE  10.730779  10.613619  11.738241  10.547615  10.858770  10.750603\n",
       "t+11 RMSE  11.217751  11.153954  12.502412  11.135731  11.692412  11.458523\n",
       "t+12 RMSE  11.975135  12.117445  13.382915  11.581188  12.537667  12.201281\n",
       "t+13 RMSE  12.431174  12.648199  14.090454  12.092397  12.351822  12.579149\n",
       "t+14 RMSE  13.060560  13.141831  14.255130  12.452494  13.279099  13.074444\n",
       "t+15 RMSE  13.879692  13.775036  15.346088  13.138019  13.793227  13.845060\n",
       "t+16 RMSE  14.670389  14.491605  16.118887  13.422946  14.143394  14.421311\n",
       "t+17 RMSE  15.237153  15.503956  16.679258  13.896419  14.108534  14.909649\n",
       "t+18 RMSE  15.390742  15.054655  16.010253  14.280028  15.037541  15.060793\n",
       "t+19 RMSE  16.030557  15.657191  16.441218  14.518066  15.145838  15.417519\n",
       "t+20 RMSE  15.671409  15.547522  16.150036  14.704495  15.150355  15.359049\n",
       "t+21 RMSE  15.757660  15.787190  16.898795  14.751765  15.152527  15.546924\n",
       "t+22 RMSE  15.208240  17.009959  16.376563  14.852501  15.567227  15.670801\n",
       "t+23 RMSE  15.162898  16.254727  16.888183  15.513842  15.526986  15.738396\n",
       "t+24 RMSE  15.516408  16.282854  16.762683  15.109268  15.232268  15.642263\n",
       "t+25 RMSE  15.338432  16.417778  16.450235  15.218523  15.879392  15.764465\n",
       "t+26 RMSE  15.215581  16.714160  16.687302  15.704890  15.650851  15.860303\n",
       "t+27 RMSE  15.410981  16.711455  17.264010  15.838977  15.801374  16.052185\n",
       "t+28 RMSE  15.969366  16.453532  16.564865  15.876696  16.078542  16.110161\n",
       "t+29 RMSE  16.291474  16.447350  16.771656  15.870124  16.276672  16.236876\n",
       "t+30 RMSE  16.122111  16.578749  16.643779  16.260352  16.013707  16.189853"
      ]
     },
     "execution_count": 38,
     "metadata": {},
     "output_type": "execute_result"
    }
   ],
   "source": [
    "df_dic = {}\n",
    "for i in range(len(rmse_dic_list) - 1):\n",
    "    df_dic['第' + str(i+1) + '次'] = pd.Series(rmse_dic_list[i])\n",
    "    \n",
    "df_dic['平均'] = pd.Series(rmse_dic_list[i+1])\n",
    "rmse_df = DataFrame(df_dic)\n",
    "rmse_df"
   ]
  },
  {
   "cell_type": "markdown",
   "metadata": {},
   "source": [
    "#### 最终平均预测结果inv_yhat_ave的每步预测错误率的平均，平均来看，预测结果会比真实结果偏高。"
   ]
  },
  {
   "cell_type": "code",
   "execution_count": 39,
   "metadata": {},
   "outputs": [
    {
     "data": {
      "text/html": [
       "<div>\n",
       "<style scoped>\n",
       "    .dataframe tbody tr th:only-of-type {\n",
       "        vertical-align: middle;\n",
       "    }\n",
       "\n",
       "    .dataframe tbody tr th {\n",
       "        vertical-align: top;\n",
       "    }\n",
       "\n",
       "    .dataframe thead th {\n",
       "        text-align: right;\n",
       "    }\n",
       "</style>\n",
       "<table border=\"1\" class=\"dataframe\">\n",
       "  <thead>\n",
       "    <tr style=\"text-align: right;\">\n",
       "      <th></th>\n",
       "      <th>平均预测错误率</th>\n",
       "    </tr>\n",
       "  </thead>\n",
       "  <tbody>\n",
       "    <tr>\n",
       "      <th>超前1步预测</th>\n",
       "      <td>0.046550</td>\n",
       "    </tr>\n",
       "    <tr>\n",
       "      <th>超前2步预测</th>\n",
       "      <td>0.047578</td>\n",
       "    </tr>\n",
       "    <tr>\n",
       "      <th>超前3步预测</th>\n",
       "      <td>0.050722</td>\n",
       "    </tr>\n",
       "    <tr>\n",
       "      <th>超前4步预测</th>\n",
       "      <td>0.052867</td>\n",
       "    </tr>\n",
       "    <tr>\n",
       "      <th>超前5步预测</th>\n",
       "      <td>0.059091</td>\n",
       "    </tr>\n",
       "    <tr>\n",
       "      <th>超前6步预测</th>\n",
       "      <td>0.063377</td>\n",
       "    </tr>\n",
       "    <tr>\n",
       "      <th>超前7步预测</th>\n",
       "      <td>0.064786</td>\n",
       "    </tr>\n",
       "    <tr>\n",
       "      <th>超前8步预测</th>\n",
       "      <td>0.064920</td>\n",
       "    </tr>\n",
       "    <tr>\n",
       "      <th>超前9步预测</th>\n",
       "      <td>0.065614</td>\n",
       "    </tr>\n",
       "    <tr>\n",
       "      <th>超前10步预测</th>\n",
       "      <td>0.066760</td>\n",
       "    </tr>\n",
       "    <tr>\n",
       "      <th>超前11步预测</th>\n",
       "      <td>0.074791</td>\n",
       "    </tr>\n",
       "    <tr>\n",
       "      <th>超前12步预测</th>\n",
       "      <td>0.077122</td>\n",
       "    </tr>\n",
       "    <tr>\n",
       "      <th>超前13步预测</th>\n",
       "      <td>0.076288</td>\n",
       "    </tr>\n",
       "    <tr>\n",
       "      <th>超前14步预测</th>\n",
       "      <td>0.076228</td>\n",
       "    </tr>\n",
       "    <tr>\n",
       "      <th>超前15步预测</th>\n",
       "      <td>0.085402</td>\n",
       "    </tr>\n",
       "    <tr>\n",
       "      <th>超前16步预测</th>\n",
       "      <td>0.089160</td>\n",
       "    </tr>\n",
       "    <tr>\n",
       "      <th>超前17步预测</th>\n",
       "      <td>0.090592</td>\n",
       "    </tr>\n",
       "    <tr>\n",
       "      <th>超前18步预测</th>\n",
       "      <td>0.096903</td>\n",
       "    </tr>\n",
       "    <tr>\n",
       "      <th>超前19步预测</th>\n",
       "      <td>0.099449</td>\n",
       "    </tr>\n",
       "    <tr>\n",
       "      <th>超前20步预测</th>\n",
       "      <td>0.096841</td>\n",
       "    </tr>\n",
       "    <tr>\n",
       "      <th>超前21步预测</th>\n",
       "      <td>0.099562</td>\n",
       "    </tr>\n",
       "    <tr>\n",
       "      <th>超前22步预测</th>\n",
       "      <td>0.100283</td>\n",
       "    </tr>\n",
       "    <tr>\n",
       "      <th>超前23步预测</th>\n",
       "      <td>0.093786</td>\n",
       "    </tr>\n",
       "    <tr>\n",
       "      <th>超前24步预测</th>\n",
       "      <td>0.091290</td>\n",
       "    </tr>\n",
       "    <tr>\n",
       "      <th>超前25步预测</th>\n",
       "      <td>0.091107</td>\n",
       "    </tr>\n",
       "    <tr>\n",
       "      <th>超前26步预测</th>\n",
       "      <td>0.086526</td>\n",
       "    </tr>\n",
       "    <tr>\n",
       "      <th>超前27步预测</th>\n",
       "      <td>0.086098</td>\n",
       "    </tr>\n",
       "    <tr>\n",
       "      <th>超前28步预测</th>\n",
       "      <td>0.085978</td>\n",
       "    </tr>\n",
       "    <tr>\n",
       "      <th>超前29步预测</th>\n",
       "      <td>0.085980</td>\n",
       "    </tr>\n",
       "    <tr>\n",
       "      <th>超前30步预测</th>\n",
       "      <td>0.077837</td>\n",
       "    </tr>\n",
       "  </tbody>\n",
       "</table>\n",
       "</div>"
      ],
      "text/plain": [
       "          平均预测错误率\n",
       "超前1步预测   0.046550\n",
       "超前2步预测   0.047578\n",
       "超前3步预测   0.050722\n",
       "超前4步预测   0.052867\n",
       "超前5步预测   0.059091\n",
       "超前6步预测   0.063377\n",
       "超前7步预测   0.064786\n",
       "超前8步预测   0.064920\n",
       "超前9步预测   0.065614\n",
       "超前10步预测  0.066760\n",
       "超前11步预测  0.074791\n",
       "超前12步预测  0.077122\n",
       "超前13步预测  0.076288\n",
       "超前14步预测  0.076228\n",
       "超前15步预测  0.085402\n",
       "超前16步预测  0.089160\n",
       "超前17步预测  0.090592\n",
       "超前18步预测  0.096903\n",
       "超前19步预测  0.099449\n",
       "超前20步预测  0.096841\n",
       "超前21步预测  0.099562\n",
       "超前22步预测  0.100283\n",
       "超前23步预测  0.093786\n",
       "超前24步预测  0.091290\n",
       "超前25步预测  0.091107\n",
       "超前26步预测  0.086526\n",
       "超前27步预测  0.086098\n",
       "超前28步预测  0.085978\n",
       "超前29步预测  0.085980\n",
       "超前30步预测  0.077837"
      ]
     },
     "execution_count": 39,
     "metadata": {},
     "output_type": "execute_result"
    }
   ],
   "source": [
    "s = inv_yhat_ave[0].shape\n",
    "erro_rate = np.zeros(s)\n",
    "for i in range(len(inv_y)):\n",
    "    erro_rate += inv_yhat_ave[i]/inv_y[i]-1\n",
    "\n",
    "erro_rate_ave = erro_rate/len(inv_y)\n",
    "err_df = DataFrame(pd.Series(erro_rate_ave))\n",
    "err_df.columns = ['平均预测错误率']\n",
    "err_df.index = ['超前%d步预测' % (i+1) for i in range(n_out)]\n",
    "err_df"
   ]
  },
  {
   "cell_type": "markdown",
   "metadata": {},
   "source": [
    "### 2.3 预测结果可视化"
   ]
  },
  {
   "cell_type": "markdown",
   "metadata": {},
   "source": [
    "#### 测试集的前十个样本"
   ]
  },
  {
   "cell_type": "code",
   "execution_count": 40,
   "metadata": {},
   "outputs": [
    {
     "data": {
      "image/png": "[encoded data removed]",
      "text/plain": [
       "<Figure size 432x288 with 1 Axes>"
      ]
     },
     "metadata": {
      "needs_background": "light"
     },
     "output_type": "display_data"
    }
   ],
   "source": [
    "dataset = data_prepare[6]\n",
    "test_X = data_prepare[4]\n",
    "n_real = len(dataset)-len(test_X)-len(inv_yhat_ave[0])\n",
    "#多画一个\n",
    "y_real = DataFrame(dataset['Y'][n_real:n_real+10+30])\n",
    "plot_forecasts(y_real, inv_yhat_ave[0:10])"
   ]
  },
  {
   "cell_type": "markdown",
   "metadata": {},
   "source": [
    "#### 整个测试集"
   ]
  },
  {
   "cell_type": "code",
   "execution_count": 41,
   "metadata": {},
   "outputs": [
    {
     "data": {
      "image/png": "[encoded data removed]",
      "text/plain": [
       "<Figure size 432x288 with 1 Axes>"
      ]
     },
     "metadata": {
      "needs_background": "light"
     },
     "output_type": "display_data"
    }
   ],
   "source": [
    "n_real = len(dataset)-len(test_X)-len(inv_yhat[0])\n",
    "#多画一个\n",
    "y_real = DataFrame(dataset['Y'][n_real:])\n",
    "plot_forecasts(y_real, inv_yhat_ave)"
   ]
  },
  {
   "cell_type": "markdown",
   "metadata": {},
   "source": [
    "### 2.4 结果导出"
   ]
  },
  {
   "cell_type": "markdown",
   "metadata": {},
   "source": [
    "#### Yhat"
   ]
  },
  {
   "cell_type": "code",
   "execution_count": 137,
   "metadata": {
    "scrolled": true
   },
   "outputs": [],
   "source": [
    "pre_df = DataFrame(inv_yhat_ave)\n",
    "#时间戳处理，让它只显示到日\n",
    "date_index = dataset.index[n_in-1+len(train_X)-1:n_in-1+len(train_X)+len(test_X)-1]\n",
    "pydate_array = date_index.to_pydatetime()\n",
    "date_only_array = np.vectorize(lambda s: s.strftime('%Y-%m-%d'))(pydate_array )\n",
    "date_only_series = pd.Series(date_only_array)\n",
    "pre_df = pre_df.set_index(date_only_series)\n",
    "names_columns = ['未来%d期' % (i+1) for i in range(n_out)]\n",
    "pre_df.columns = names_columns\n",
    "pre_df = pre_df.round(decimals=2)#小数点"
   ]
  },
  {
   "cell_type": "markdown",
   "metadata": {},
   "source": [
    "#### Y"
   ]
  },
  {
   "cell_type": "code",
   "execution_count": 136,
   "metadata": {},
   "outputs": [],
   "source": [
    "actual_df = DataFrame(inv_y)\n",
    "names_columns = ['未来%d期' % (i+1) for i in range(n_out)]\n",
    "actual_df.columns = names_columns\n",
    "actual_df = actual_df.set_index(date_only_series)\n",
    "actual_df = actual_df.round(decimals=2)"
   ]
  },
  {
   "cell_type": "markdown",
   "metadata": {},
   "source": [
    "#### 导出xlsx"
   ]
  },
  {
   "cell_type": "code",
   "execution_count": 140,
   "metadata": {},
   "outputs": [],
   "source": [
    "writer = pd.ExcelWriter('Y-结果导出.xlsx')\n",
    "pre_df.to_excel(writer,\"Yhat\")\n",
    "actual_df.to_excel(writer,\"Y\")\n",
    "writer.save()"
   ]
  },
  {
   "cell_type": "markdown",
   "metadata": {},
   "source": [
    "## 参考资料：\n",
    "https://machinelearningmastery.com/multivariate-time-series-forecasting-lstms-keras/\n",
    "\n",
    "https://machinelearningmastery.com/multi-step-time-series-forecasting-long-short-term-memory-networks-python/\n",
    "\n",
    "https://blog.csdn.net/qq_28031525/article/details/79046718\n",
    "\n",
    "https://cloud.tencent.com/developer/article/1645547\n",
    "\n",
    "https://machinelearningmastery.com/update-lstm-networks-training-time-series-forecasting/"
   ]
  }
 ],
 "metadata": {
  "kernelspec": {
   "display_name": "Python 3",
   "language": "python",
   "name": "python3"
  },
  "language_info": {
   "codemirror_mode": {
    "name": "ipython",
    "version": 3
   },
   "file_extension": ".py",
   "mimetype": "text/x-python",
   "name": "python",
   "nbconvert_exporter": "python",
   "pygments_lexer": "ipython3",
   "version": "3.7.3"
  }
 },
 "nbformat": 4,
 "nbformat_minor": 2
}
